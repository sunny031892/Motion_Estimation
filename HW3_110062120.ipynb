{
 "cells": [
  {
   "cell_type": "markdown",
   "metadata": {},
   "source": [
    "# **CS357000 Introduction to Multimedia - HW3**\n",
    "\n",
    "In this homework, you'll be engaging with fundamental concepts of motion estimation, including \n",
    "+   Implementation and visualization\n",
    "+   Temporal Performance Analysis of Motion Estimation\n",
    "+   Computational Efficiency analysis\n",
    "\n",
    "Each question is designed to build your understanding and skills in these areas.   \n",
    "Follow the instructions carefully and complete the tasks in the provided code blocks.  \n",
    "Additionally, you will be required to write a report in the designated sections to explain your methodology and findings.  \n",
    "\n",
    "# **Submission**\n",
    "+   Ensure that you have completed all tasks and filled in all reports before submitting.\n",
    "+   Compress your code and results in a zip file named HW3_{StudentID}.zip and upload to eeclass before the deadline \n",
    "+   The structure and naming of the files must be consistent with the specifications outlined in the description file"
   ]
  },
  {
   "cell_type": "code",
   "execution_count": 1,
   "metadata": {},
   "outputs": [],
   "source": [
    "# Lib\n",
    "import cv2\n",
    "import os\n",
    "import numpy as np\n",
    "import matplotlib.pyplot as plt\n",
    "from tqdm import tqdm\n",
    "import glob"
   ]
  },
  {
   "cell_type": "code",
   "execution_count": 2,
   "metadata": {},
   "outputs": [],
   "source": [
    "def calculate_SAD(ref_block, target_block):\n",
    "    \"\"\"\n",
    "    Calculate Sum of Absolute Differences (SAD) between two image blocks.\n",
    "    \"\"\"\n",
    "    return np.sum(np.abs(ref_block.astype(int) - target_block.astype(int)))"
   ]
  },
  {
   "cell_type": "code",
   "execution_count": 3,
   "metadata": {},
   "outputs": [],
   "source": [
    "def calculate_PSNR(predicted_img, target_img):\n",
    "    \"\"\"\n",
    "    Calculate the PSNR between the predicted and target images.\n",
    "    \"\"\"\n",
    "    mse = np.mean((predicted_img - target_img) ** 2)\n",
    "    if mse == 0:\n",
    "        return 100\n",
    "    max_pixel = 255.0\n",
    "    psnr = 20 * np.log10(max_pixel / np.sqrt(mse))\n",
    "    return psnr"
   ]
  },
  {
   "cell_type": "code",
   "execution_count": 4,
   "metadata": {},
   "outputs": [],
   "source": [
    "def full_search(ref_img, target_block, corner_pt, search_range, block_size):\n",
    "    '''\n",
    "    In:\n",
    "        ref_img : reference image (numpy array)\n",
    "        target_block : target block (numpy array)\n",
    "        corner_pt : top-left corner coordinate of the target block (tuple)\n",
    "        search_range : search range (int)\n",
    "        block_size : size of macroblock (int)\n",
    "    Out:\n",
    "        predicted_block : predicted block (numpy array)\n",
    "        motion_vector : motion vector (numpy array)\n",
    "        SAD : SAD value (int)\n",
    "    '''\n",
    "    min_SAD = np.inf\n",
    "    motion_vector = np.zeros((1, 2))\n",
    "    predicted_block = np.zeros_like(target_block)\n",
    "    y, x = corner_pt\n",
    "    for dy in range(-search_range, search_range + 1):\n",
    "        for dx in range(-search_range, search_range + 1):\n",
    "            ny, nx = y + dy, x + dx\n",
    "            if 0 <= ny < ref_img.shape[0] - block_size and 0 <= nx < ref_img.shape[1] - block_size:\n",
    "                ref_block = ref_img[ny:ny + block_size, nx:nx + block_size]\n",
    "                sad = calculate_SAD(ref_block, target_block)\n",
    "                if sad < min_SAD:\n",
    "                    min_SAD = sad\n",
    "                    motion_vector = np.array([dy, dx])\n",
    "                    predicted_block = ref_block\n",
    "    return predicted_block, motion_vector, min_SAD"
   ]
  },
  {
   "cell_type": "code",
   "execution_count": 5,
   "metadata": {},
   "outputs": [],
   "source": [
    "def twoD_log_search(ref_img, target_img, corner_pt, search_range, block_size):\n",
    "    step = search_range\n",
    "    min_SAD = float('inf')\n",
    "    best_position = corner_pt\n",
    "\n",
    "    while step > 0:\n",
    "        found_better_match = False\n",
    "        for dy in [-step, 0, step]:\n",
    "            for dx in [-step, 0, step]:\n",
    "                ny, nx = best_position[0] + dy, best_position[1] + dx\n",
    "                if ny >= 0 and ny + block_size <= ref_img.shape[0] and nx >= 0 and nx + block_size <= ref_img.shape[1]:\n",
    "                    ref_block = ref_img[ny:ny + block_size, nx:nx + block_size]\n",
    "                    target_y = corner_pt[0] + dy\n",
    "                    target_x = corner_pt[1] + dx\n",
    "                    if target_y >= 0 and target_y + block_size <= target_img.shape[0] and target_x >= 0 and target_x + block_size <= target_img.shape[1]:\n",
    "                        target_block = target_img[target_y:target_y + block_size, target_x:target_x + block_size]\n",
    "                        sad = calculate_SAD(ref_block, target_block)\n",
    "                        if sad < min_SAD:\n",
    "                            min_SAD = sad\n",
    "                            best_position = (ny, nx)\n",
    "                            found_better_match = True\n",
    "        if not found_better_match:\n",
    "            step //= 2\n",
    "\n",
    "    predicted_block = ref_img[best_position[0]:best_position[0]+block_size, best_position[1]:best_position[1]+block_size]\n",
    "    motion_vector = np.array([best_position[0] - corner_pt[0], best_position[1] - corner_pt[1]])\n",
    "    return predicted_block, motion_vector, min_SAD\n"
   ]
  },
  {
   "cell_type": "code",
   "execution_count": 6,
   "metadata": {},
   "outputs": [],
   "source": [
    "def get_residual_img(predicted_img, target_img):\n",
    "    '''\n",
    "    Calculate the residual image using the Y (luminance) channel of the images.\n",
    "    \n",
    "    In:\n",
    "        predicted_img : predicted image (numpy array)\n",
    "        target_img : target image (numpy array)\n",
    "    Out:\n",
    "        residual_img : residual image (numpy array)\n",
    "    '''\n",
    "    # Convert both images to the YCbCr color space and extract the Y channel\n",
    "    predicted_y = cv2.cvtColor(predicted_img, cv2.COLOR_BGR2YCrCb)[:, :, 0]\n",
    "    target_y = cv2.cvtColor(target_img, cv2.COLOR_BGR2YCrCb)[:, :, 0]\n",
    "\n",
    "    # Calculate the absolute difference of the luminance components\n",
    "    residual_img = np.abs(predicted_y - target_y)\n",
    "    return residual_img\n"
   ]
  },
  {
   "cell_type": "code",
   "execution_count": 7,
   "metadata": {},
   "outputs": [],
   "source": [
    "def get_motion_vector_img(target_img, motion_vectors, block_size):\n",
    "    '''\n",
    "    In:\n",
    "        target_img : target image (numpy array)\n",
    "        motion_vectors : motion vectors (array of tuple)\n",
    "        block_size : size of macroblock (int)\n",
    "    Out:\n",
    "        motion_vector_img : motion vector image (numpy array)\n",
    "    '''\n",
    "    motion_vector_img = target_img.copy()\n",
    "    for y in range(0, motion_vector_img.shape[0], block_size):\n",
    "        for x in range(0, motion_vector_img.shape[1], block_size):\n",
    "            # 计算运动矢量的终点位置\n",
    "            end_x = int(x + block_size // 2 + motion_vectors[y // block_size, x // block_size, 1])\n",
    "            end_y = int(y + block_size // 2 + motion_vectors[y // block_size, x // block_size, 0])\n",
    "            # 绘制运动矢量\n",
    "            cv2.arrowedLine(motion_vector_img, (x + block_size // 2, y + block_size // 2), (end_x, end_y), (0, 255, 0), 2, tipLength=0.3)\n",
    "    return motion_vector_img\n"
   ]
  },
  {
   "cell_type": "code",
   "execution_count": 8,
   "metadata": {},
   "outputs": [],
   "source": [
    "def perform_motion_estimation(method, search_range, block_size, ref_img, target_img):\n",
    "    # Check if either image is not loaded properly\n",
    "    if ref_img is None:\n",
    "        raise ValueError(\"Reference image not loaded. Please check the file path.\")\n",
    "    if target_img is None:\n",
    "        raise ValueError(\"Target image not loaded. Please check the file path.\")\n",
    "\n",
    "    # Ensure the method is correct\n",
    "    assert method in ['full_search', '2d_log_search'], \"Invalid method specified\"\n",
    "\n",
    "    # Initialize variables\n",
    "    h, w = target_img.shape[:2]\n",
    "    motion_vectors = np.zeros((h // block_size, w // block_size, 2))\n",
    "    predicted_img = np.zeros_like(target_img)\n",
    "    total_sad = 0\n",
    "\n",
    "    # Process each block\n",
    "    for y in range(0, h - block_size + 1, block_size):\n",
    "        for x in range(0, w - block_size + 1, block_size):\n",
    "            target_block = target_img[y:y + block_size, x:x + block_size]\n",
    "            if method == 'full_search':\n",
    "                predicted_block, motion_vector, sad = full_search(ref_img, target_block, (y, x), search_range, block_size)\n",
    "            elif method == '2d_log_search':\n",
    "                predicted_block, motion_vector, sad = twoD_log_search(ref_img, target_block, (y, x), search_range, block_size)\n",
    "            predicted_img[y:y + block_size, x:x + block_size] = predicted_block\n",
    "            motion_vectors[y // block_size, x // block_size] = motion_vector\n",
    "            total_sad += calculate_SAD(predicted_block, target_block)\n",
    "\n",
    "    # Create output directory\n",
    "    output_dir = './out/q1'\n",
    "    os.makedirs(output_dir, exist_ok=True)\n",
    "\n",
    "    # Format the file naming string according to the provided screenshot\n",
    "    method_label = method\n",
    "    predicted_filename = f\"{method_label}_predicted_r{search_range}_b{block_size}.jpg\"\n",
    "    motion_vector_filename = f\"{method_label}_motion_vector_r{search_range}_b{block_size}.jpg\"\n",
    "    residual_filename = f\"{method_label}_residual_r{search_range}_b{block_size}.jpg\"\n",
    "\n",
    "    # Save images\n",
    "    cv2.imwrite(os.path.join(output_dir, predicted_filename), predicted_img)\n",
    "    motion_vector_img = get_motion_vector_img(target_img, motion_vectors, block_size)\n",
    "    cv2.imwrite(os.path.join(output_dir, motion_vector_filename), motion_vector_img)\n",
    "\n",
    "    # Generate and save residual image\n",
    "    predicted_y = cv2.cvtColor(predicted_img, cv2.COLOR_BGR2YCrCb)[:, :, 0]\n",
    "    target_y = cv2.cvtColor(target_img, cv2.COLOR_BGR2YCrCb)[:, :, 0]\n",
    "    residual_img = np.abs(predicted_y - target_y)\n",
    "    cv2.imwrite(os.path.join(output_dir, residual_filename), residual_img)\n",
    "    \n",
    "    psnr_value = calculate_PSNR(predicted_img, target_img)\n",
    "\n",
    "    return f\"sad = {total_sad}, psnr = {psnr_value}\"\n"
   ]
  },
  {
   "cell_type": "markdown",
   "metadata": {},
   "source": [
    "## **Section 1 - Implementation and Visualization (60%)**\n",
    "Implement both search algorithms with search ranges of p=8 and p=16 in combination with two macroblock sizes of 8x8 and 16x16, respectively. The reference image is ‘00080.jpg’, and the target image is ‘00084.jpg’."
   ]
  },
  {
   "cell_type": "code",
   "execution_count": 9,
   "metadata": {},
   "outputs": [],
   "source": [
    "# set image path\n",
    "ref_img_path = './src/00080.jpg'\n",
    "target_img_path = './src/00084.jpg'\n",
    "\n",
    "# read image\n",
    "ref_img = cv2.imread(ref_img_path)\n",
    "target_img = cv2.imread(target_img_path)"
   ]
  },
  {
   "cell_type": "code",
   "execution_count": 10,
   "metadata": {},
   "outputs": [
    {
     "data": {
      "text/plain": [
       "'sad = 15296056, psnr = 35.798158462372264'"
      ]
     },
     "execution_count": 10,
     "metadata": {},
     "output_type": "execute_result"
    }
   ],
   "source": [
    "# method=full_search, search_range=8, block_size=8\n",
    "perform_motion_estimation(method='full_search', search_range=8, block_size=8, ref_img=ref_img, target_img=target_img)"
   ]
  },
  {
   "cell_type": "code",
   "execution_count": 11,
   "metadata": {},
   "outputs": [
    {
     "data": {
      "text/plain": [
       "'sad = 17460294, psnr = 35.10462429474005'"
      ]
     },
     "execution_count": 11,
     "metadata": {},
     "output_type": "execute_result"
    }
   ],
   "source": [
    "# method=full_search, search_range=8, block_size=16\n",
    "perform_motion_estimation(method='full_search', search_range=8, block_size=16, ref_img=ref_img, target_img=target_img)"
   ]
  },
  {
   "cell_type": "code",
   "execution_count": 12,
   "metadata": {},
   "outputs": [
    {
     "data": {
      "text/plain": [
       "'sad = 10878572, psnr = 36.47319106235639'"
      ]
     },
     "execution_count": 12,
     "metadata": {},
     "output_type": "execute_result"
    }
   ],
   "source": [
    "# method=full_search, search_range=16, block_size=8\n",
    "perform_motion_estimation(method='full_search', search_range=16, block_size=8, ref_img=ref_img, target_img=target_img)"
   ]
  },
  {
   "cell_type": "code",
   "execution_count": 13,
   "metadata": {},
   "outputs": [
    {
     "data": {
      "text/plain": [
       "'sad = 13306822, psnr = 35.54034533595081'"
      ]
     },
     "execution_count": 13,
     "metadata": {},
     "output_type": "execute_result"
    }
   ],
   "source": [
    "# method=full_search, search_range=16, block_size=16\n",
    "perform_motion_estimation(method='full_search', search_range=16, block_size=16, ref_img=ref_img, target_img=target_img)"
   ]
  },
  {
   "cell_type": "code",
   "execution_count": 14,
   "metadata": {},
   "outputs": [
    {
     "data": {
      "text/plain": [
       "'sad = 27306595, psnr = 33.699889838354494'"
      ]
     },
     "execution_count": 14,
     "metadata": {},
     "output_type": "execute_result"
    }
   ],
   "source": [
    "# method=2d_log_search, search_range=8, block_size=8\n",
    "perform_motion_estimation(method='2d_log_search', search_range=8, block_size=8, ref_img=ref_img, target_img=target_img)"
   ]
  },
  {
   "cell_type": "code",
   "execution_count": 15,
   "metadata": {},
   "outputs": [
    {
     "data": {
      "text/plain": [
       "'sad = 27305848, psnr = 33.699982991982424'"
      ]
     },
     "execution_count": 15,
     "metadata": {},
     "output_type": "execute_result"
    }
   ],
   "source": [
    "# method=2d_log_search, search_range=8, block_size=16\n",
    "perform_motion_estimation(method='2d_log_search', search_range=8, block_size=16, ref_img=ref_img, target_img=target_img)"
   ]
  },
  {
   "cell_type": "code",
   "execution_count": 16,
   "metadata": {},
   "outputs": [
    {
     "data": {
      "text/plain": [
       "'sad = 27308425, psnr = 33.699414644376034'"
      ]
     },
     "execution_count": 16,
     "metadata": {},
     "output_type": "execute_result"
    }
   ],
   "source": [
    "# method=2d_log_search, search_range=16, block_size=8\n",
    "perform_motion_estimation(method='2d_log_search', search_range=16, block_size=8, ref_img=ref_img, target_img=target_img)"
   ]
  },
  {
   "cell_type": "code",
   "execution_count": 17,
   "metadata": {},
   "outputs": [
    {
     "data": {
      "text/plain": [
       "'sad = 27314214, psnr = 33.697259540446055'"
      ]
     },
     "execution_count": 17,
     "metadata": {},
     "output_type": "execute_result"
    }
   ],
   "source": [
    "# method=2d_log_search, search_range=16, block_size=16\n",
    "perform_motion_estimation(method='2d_log_search', search_range=16, block_size=16, ref_img=ref_img, target_img=target_img)"
   ]
  },
  {
   "cell_type": "markdown",
   "metadata": {},
   "source": [
    "## **Section 2 - Temporal Performance Analysis of Motion Estimation (30%)**\n",
    "Implement the 2D Logarithmic Search method across an entire video sequence using a search range of p=16 and macroblock size of 16x16. The sequence starts with the reference frame ‘00050.jpg’, and subsequent frames in the video serve as target images."
   ]
  },
  {
   "cell_type": "code",
   "execution_count": 18,
   "metadata": {},
   "outputs": [],
   "source": [
    "def frames_to_video(image_folder, video_path, frame_width, frame_height, fps=30, img_postfix='.jpg'):\n",
    "    fourcc = cv2.VideoWriter_fourcc(*'mp4v')\n",
    "    video_writer = cv2.VideoWriter(video_path, fourcc, fps, (frame_width, frame_height))\n",
    "    images = glob.glob(os.path.join(image_folder, '*'+img_postfix))\n",
    "    images.sort()\n",
    "    for image_file in images:\n",
    "        img = cv2.imread(image_file)\n",
    "        if img is not None:\n",
    "            img = cv2.resize(img, (frame_width, frame_height))\n",
    "            video_writer.write(img)\n",
    "    video_writer.release()\n",
    "    print(f'Video saved as {video_path}')\n",
    "\n",
    "\n",
    "def process_video_sequence(reference_img_path, target_img_folder, search_range, block_size):\n",
    "    \"\"\"\n",
    "    Process the video sequence for motion estimation.\n",
    "    \"\"\"\n",
    "    ref_img = cv2.imread(reference_img_path)\n",
    "    if ref_img is None:\n",
    "        print(\"Failed to load reference image from\", reference_img_path)\n",
    "        return [], [], [], []\n",
    "\n",
    "    target_images = sorted(glob.glob(os.path.join(target_img_folder, '*.jpg')))\n",
    "    sads, psnrs, predicted_frames, residual_frames = [], [], [], []\n",
    "\n",
    "    for target_img_path in target_images:\n",
    "        target_img = cv2.imread(target_img_path)\n",
    "        if target_img is None:\n",
    "            print(\"Failed to load target image from\", target_img_path)\n",
    "            continue\n",
    "\n",
    "        if target_img.shape != ref_img.shape:\n",
    "            target_img = cv2.resize(target_img, (ref_img.shape[1], ref_img.shape[0]))\n",
    "\n",
    "        predicted_frame = np.zeros_like(ref_img)\n",
    "        residual_frame = np.zeros_like(ref_img)\n",
    "\n",
    "        for y in range(0, ref_img.shape[0], block_size):\n",
    "            for x in range(0, ref_img.shape[1], block_size):\n",
    "                corner_pt = (y, x)\n",
    "                predicted_block, motion_vector, sad = twoD_log_search(ref_img, target_img, corner_pt, search_range, block_size)\n",
    "                psnr = calculate_PSNR(predicted_block, target_img[y:y+block_size, x:x+block_size])\n",
    "                predicted_frame[y:y+block_size, x:x+block_size] = predicted_block\n",
    "                residual_block = np.abs(predicted_block - target_img[y:y+block_size, x:x+block_size])\n",
    "                residual_frame[y:y+block_size, x:x+block_size] = residual_block\n",
    "\n",
    "                sads.append(sad)\n",
    "                psnrs.append(psnr)\n",
    "\n",
    "        predicted_frames.append(predicted_frame)\n",
    "        residual_frames.append(residual_frame)\n",
    "\n",
    "    return sads, psnrs, predicted_frames, residual_frames"
   ]
  },
  {
   "cell_type": "code",
   "execution_count": 19,
   "metadata": {},
   "outputs": [
    {
     "data": {
      "image/png": "[encoded data removed]",
      "text/plain": [
       "<Figure size 1000x500 with 1 Axes>"
      ]
     },
     "metadata": {},
     "output_type": "display_data"
    }
   ],
   "source": [
    "# TODO plot total SAD curve across the video sequence to capture the performance metrics dynamically and describe what you observe\n",
    "def plot_sad_curve(sads):\n",
    "    \"\"\"\n",
    "    Plot the SAD values over frames.\n",
    "    \"\"\"\n",
    "    plt.figure(figsize=(10, 5))\n",
    "    plt.plot(sads, label='Total SAD')\n",
    "    plt.title('Total SAD over Frames')\n",
    "    plt.xlabel('Frame Number')\n",
    "    plt.ylabel('SAD')\n",
    "    plt.legend()\n",
    "    plt.show()\n",
    "\n",
    "sads, psnrs, predicted_images, residual_images = process_video_sequence('./src/00050.jpg', './src', 16, 16)\n",
    "plot_sad_curve(sads)"
   ]
  },
  {
   "cell_type": "code",
   "execution_count": 20,
   "metadata": {},
   "outputs": [
    {
     "data": {
      "image/png": "[encoded data removed]",
      "text/plain": [
       "<Figure size 1000x500 with 1 Axes>"
      ]
     },
     "metadata": {},
     "output_type": "display_data"
    }
   ],
   "source": [
    "# TODO plot PSNR curve across the video sequence to capture the performance metrics dynamically and describe what you observe\n",
    "def plot_psnr_curve(psnrs):\n",
    "    plt.figure(figsize=(10, 5))\n",
    "    plt.plot(psnrs, label='PSNR')\n",
    "    plt.title('PSNR over Frames')\n",
    "    plt.xlabel('Frame Number')\n",
    "    plt.ylabel('PSNR (dB)')\n",
    "    plt.legend()\n",
    "    plt.show()\n",
    "\n",
    "# Plot PSNR Curve\n",
    "plot_psnr_curve(psnrs)"
   ]
  },
  {
   "cell_type": "code",
   "execution_count": 21,
   "metadata": {},
   "outputs": [
    {
     "name": "stdout",
     "output_type": "stream",
     "text": [
      "Video saved as ./out/Q2/predicted_video.mp4\n",
      "Video saved as ./out/Q2/residual_video.mp4\n"
     ]
    }
   ],
   "source": [
    "# TODO generate predicted images and residual images for each frame in the sequence in relation to the reference frame and compile them into two video files to visualize the temporal consistency of the motion estimation\n",
    "def frames_to_video(image_array_list, video_path, frame_width, frame_height, fps=30):\n",
    "    fourcc = cv2.VideoWriter_fourcc(*'mp4v')\n",
    "    video_writer = cv2.VideoWriter(video_path, fourcc, fps, (frame_width, frame_height))\n",
    "    for img in image_array_list:\n",
    "        if img is not None:\n",
    "            img = cv2.resize(img, (frame_width, frame_height))\n",
    "            video_writer.write(img)\n",
    "    video_writer.release()\n",
    "    print(f'Video saved as {video_path}')\n",
    "\n",
    "def compile_videos(predicted_images, residual_images, output_folder):\n",
    "    # Check if there are any images to process\n",
    "    if not predicted_images or not residual_images:\n",
    "        print(\"No images to process for video compilation.\")\n",
    "        return\n",
    "\n",
    "    frame_width, frame_height = predicted_images[0].shape[1], predicted_images[0].shape[0]\n",
    "    frames_to_video(predicted_images, os.path.join(output_folder, 'predicted_video.mp4'), frame_width, frame_height)\n",
    "    frames_to_video(residual_images, os.path.join(output_folder, 'residual_video.mp4'), frame_width, frame_height)\n",
    "\n",
    "# Generate and Compile Videos\n",
    "compile_videos(predicted_images, residual_images, './out/Q2')"
   ]
  },
  {
   "cell_type": "markdown",
   "metadata": {},
   "source": [
    "## **Section 3 - Computational Efficiency Analysis (10%)**\n",
    " - Measure the execution time required for the two search algorithms with the two different search range sizes p=8 and p=16\n",
    " - Compare and discuss the execution time with the theoretical time complexity for the two search algorithms"
   ]
  },
  {
   "cell_type": "code",
   "execution_count": 22,
   "metadata": {},
   "outputs": [
    {
     "name": "stdout",
     "output_type": "stream",
     "text": [
      "Search Method: full, Search Range: p=8, Block Size: 8x8\n",
      "Execution Time: 0.0004 seconds\n",
      "\n",
      "Search Method: log, Search Range: p=8, Block Size: 8x8\n",
      "Execution Time: 0.0001 seconds\n",
      "\n",
      "Search Method: full, Search Range: p=8, Block Size: 16x16\n",
      "Execution Time: 0.0004 seconds\n",
      "\n",
      "Search Method: log, Search Range: p=8, Block Size: 16x16\n",
      "Execution Time: 0.0001 seconds\n",
      "\n",
      "Search Method: full, Search Range: p=16, Block Size: 8x8\n",
      "Execution Time: 0.0011 seconds\n",
      "\n",
      "Search Method: log, Search Range: p=16, Block Size: 8x8\n",
      "Execution Time: 0.0001 seconds\n",
      "\n",
      "Search Method: full, Search Range: p=16, Block Size: 16x16\n",
      "Execution Time: 0.0012 seconds\n",
      "\n",
      "Search Method: log, Search Range: p=16, Block Size: 16x16\n",
      "Execution Time: 0.0001 seconds\n",
      "\n"
     ]
    }
   ],
   "source": [
    "import time\n",
    "\n",
    "def measure_performance(ref_img_path, target_img_path, search_ranges, block_sizes):\n",
    "    \"\"\"\n",
    "    Measure the performance of the search algorithms.\n",
    "    \"\"\"\n",
    "    ref_img = cv2.imread(ref_img_path)\n",
    "    target_img = cv2.imread(target_img_path)\n",
    "    times = {}\n",
    "\n",
    "    for search_range in search_ranges:\n",
    "        for block_size in block_sizes:\n",
    "            corner_pt = (0, 0)\n",
    "            target_block = target_img[corner_pt[0]:corner_pt[0] + block_size, corner_pt[1]:corner_pt[1] + block_size]\n",
    "\n",
    "            start_time = time.time()\n",
    "            _, _, _ = full_search(ref_img, target_block, corner_pt, search_range, block_size)\n",
    "            elapsed_time = time.time() - start_time\n",
    "            times[(search_range, block_size, 'full')] = elapsed_time\n",
    "\n",
    "            start_time = time.time()\n",
    "            _, _, _ = twoD_log_search(ref_img, target_img, corner_pt, search_range, block_size)\n",
    "            elapsed_time = time.time() - start_time\n",
    "            times[(search_range, block_size, 'log')] = elapsed_time\n",
    "\n",
    "    return times\n",
    "\n",
    "def compare_time_complexity(times):\n",
    "    \"\"\"\n",
    "    Compare the measured times to theoretical complexity.\n",
    "    \"\"\"\n",
    "    for key, time in times.items():\n",
    "        search_range, block_size, method = key\n",
    "        print(f\"Search Method: {method}, Search Range: p={search_range}, Block Size: {block_size}x{block_size}\")\n",
    "        print(f\"Execution Time: {time:.4f} seconds\")\n",
    "        print(\"\")\n",
    "\n",
    "search_ranges = [8, 16]\n",
    "block_sizes = [8, 16]\n",
    "ref_img_path = './src/00080.jpg'\n",
    "target_img_path = './src/00084.jpg'\n",
    "\n",
    "times = measure_performance(ref_img_path, target_img_path, search_ranges, block_sizes)\n",
    "compare_time_complexity(times)\n"
   ]
  },
  {
   "cell_type": "markdown",
   "metadata": {},
   "source": [
    "**1. Execution Time:**\n",
    "\n",
    "Both algorithms took longer with a larger search range (p). The full search was slower than the logarithmic search in all cases.\n",
    "\n",
    "**2. Theoretical Complexity:**\n",
    "\n",
    "The full search has a time complexity of O(N^2 * p^2), while the logarithmic search has O(N^2 * log(p)). This explains the significant difference in execution times as p increases.\n",
    "\n",
    "**3. Conclusion:**\n",
    "\n",
    "The logarithmic search is more efficient for larger search ranges, while the full search, although thorough, is slower."
   ]
  }
 ],
 "metadata": {
  "kernelspec": {
   "display_name": "Python 3",
   "language": "python",
   "name": "python3"
  },
  "language_info": {
   "codemirror_mode": {
    "name": "ipython",
    "version": 3
   },
   "file_extension": ".py",
   "mimetype": "text/x-python",
   "name": "python",
   "nbconvert_exporter": "python",
   "pygments_lexer": "ipython3",
   "version": "3.10.7"
  }
 },
 "nbformat": 4,
 "nbformat_minor": 2
}
